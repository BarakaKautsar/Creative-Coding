{
 "cells": [
  {
   "cell_type": "markdown",
   "metadata": {
    "id": "Kg9YPOHrnUtC"
   },
   "source": [
    "### Setup"
   ]
  },
  {
   "cell_type": "code",
   "execution_count": 13,
   "metadata": {
    "id": "QCgl7R1JnG6E"
   },
   "outputs": [],
   "source": [
    "import numpy as np\n",
    "import random\n",
    "import matplotlib.pyplot as plt\n",
    "from scipy.sparse import csr_matrix\n",
    "from sklearn.cluster import SpectralClustering\n",
    "import pickle"
   ]
  },
  {
   "cell_type": "markdown",
   "metadata": {
    "id": "B659sXvLnY0J"
   },
   "source": [
    "### Interpreter Class"
   ]
  },
  {
   "cell_type": "markdown",
   "metadata": {
    "id": "HpSLEi-EncJx"
   },
   "source": [
    "The below cell defines an Interpreter class with the following responsibilities:\n",
    "* Initialize the starting word bank\n",
    "* Perform spectal clustering on the word bank to partition it into communities of similar words\n",
    "* Translate the distribution of words within clusters into a discrete state using $k$ quantiles\n",
    "* Pass the discrete state label to a Q Learner class along with the reward from the learner's previous action (quantile guess)\n",
    "* Based on the Q Learner's chosen quantile, choose the word having the highest total similarity score within the quantile as the bot's next guess\n",
    "* Pass word guesses to a Grader class\n",
    "* Use information returned from the Grader class to filter the word bank, compute a reward, and repeat the above steps until convergence"
   ]
  },
  {
   "cell_type": "markdown",
   "metadata": {
    "id": "ks5_C5GmAvnp"
   },
   "source": [
    "I manually copied the answer bank below from the Wordle source code. \n",
    "\n",
    "**Spoiler alert - the answers are listed in date order, so don't look too closely at the world list if you don't want to spoil the game for yourself.**"
   ]
  },
  {
   "cell_type": "code",
   "execution_count": 2,
   "metadata": {
    "id": "Bo6klHSgaHD2"
   },
   "outputs": [],
   "source": [
    "class Interpreter():\n",
    "  def __init__(self, k=5):\n",
    "    self.words_full=[\"cigar\",\"rebut\",\"sissy\",\"humph\",\"awake\",\"blush\",\"focal\",\"evade\",\"naval\",\"serve\",\"heath\",\"dwarf\",\"model\",\"karma\",\"stink\",\"grade\",\"quiet\",\"bench\",\"abate\",\"feign\",\"major\",\"death\",\"fresh\",\"crust\",\"stool\",\"colon\",\"abase\",\"marry\",\"react\",\"batty\",\"pride\",\"floss\",\"helix\",\"croak\",\"staff\",\"paper\",\"unfed\",\"whelp\",\"trawl\",\"outdo\",\"adobe\",\"crazy\",\"sower\",\"repay\",\"digit\",\"crate\",\"cluck\",\"spike\",\"mimic\",\"pound\",\"maxim\",\"linen\",\"unmet\",\"flesh\",\"booby\",\"forth\",\"first\",\"stand\",\"belly\",\"ivory\",\"seedy\",\"print\",\"yearn\",\"drain\",\"bribe\",\"stout\",\"panel\",\"crass\",\"flume\",\"offal\",\"agree\",\"error\",\"swirl\",\"argue\",\"bleed\",\"delta\",\"flick\",\"totem\",\"wooer\",\"front\",\"shrub\",\"parry\",\"biome\",\"lapel\",\"start\",\"greet\",\"goner\",\"golem\",\"lusty\",\"loopy\",\"round\",\"audit\",\"lying\",\"gamma\",\"labor\",\"islet\",\"civic\",\"forge\",\"corny\",\"moult\",\"basic\",\"salad\",\"agate\",\"spicy\",\"spray\",\"essay\",\"fjord\",\"spend\",\"kebab\",\"guild\",\"aback\",\"motor\",\"alone\",\"hatch\",\"hyper\",\"thumb\",\"dowry\",\"ought\",\"belch\",\"dutch\",\"pilot\",\"tweed\",\"comet\",\"jaunt\",\"enema\",\"steed\",\"abyss\",\"growl\",\"fling\",\"dozen\",\"boozy\",\"erode\",\"world\",\"gouge\",\"click\",\"briar\",\"great\",\"altar\",\"pulpy\",\"blurt\",\"coast\",\"duchy\",\"groin\",\"fixer\",\"group\",\"rogue\",\"badly\",\"smart\",\"pithy\",\"gaudy\",\"chill\",\"heron\",\"vodka\",\"finer\",\"surer\",\"radio\",\"rouge\",\"perch\",\"retch\",\"wrote\",\"clock\",\"tilde\",\"store\",\"prove\",\"bring\",\"solve\",\"cheat\",\"grime\",\"exult\",\"usher\",\"epoch\",\"triad\",\"break\",\"rhino\",\"viral\",\"conic\",\"masse\",\"sonic\",\"vital\",\"trace\",\"using\",\"peach\",\"champ\",\"baton\",\"brake\",\"pluck\",\"craze\",\"gripe\",\"weary\",\"picky\",\"acute\",\"ferry\",\"aside\",\"tapir\",\"troll\",\"unify\",\"rebus\",\"boost\",\"truss\",\"siege\",\"tiger\",\"banal\",\"slump\",\"crank\",\"gorge\",\"query\",\"drink\",\"favor\",\"abbey\",\"tangy\",\"panic\",\"solar\",\"shire\",\"proxy\",\"point\",\"robot\",\"prick\",\"wince\",\"crimp\",\"knoll\",\"sugar\",\"whack\",\"mount\",\"perky\",\"could\",\"wrung\",\"light\",\"those\",\"moist\",\"shard\",\"pleat\",\"aloft\",\"skill\",\"elder\",\"frame\",\"humor\",\"pause\",\"ulcer\",\"ultra\",\"robin\",\"cynic\",\"agora\",\"aroma\",\"caulk\",\"shake\",\"pupal\",\"dodge\",\"swill\",\"tacit\",\"other\",\"thorn\",\"trove\",\"bloke\",\"vivid\",\"spill\",\"chant\",\"choke\",\"rupee\",\"nasty\",\"mourn\",\"ahead\",\"brine\",\"cloth\",\"hoard\",\"sweet\",\"month\",\"lapse\",\"watch\",\"today\",\"focus\",\"smelt\",\"tease\",\"cater\",\"movie\",\"lynch\",\"saute\",\"allow\",\"renew\",\"their\",\"slosh\",\"purge\",\"chest\",\"depot\",\"epoxy\",\"nymph\",\"found\",\"shall\",\"harry\",\"stove\",\"lowly\",\"snout\",\"trope\",\"fewer\",\"shawl\",\"natal\",\"fibre\",\"comma\",\"foray\",\"scare\",\"stair\",\"black\",\"squad\",\"royal\",\"chunk\",\"mince\",\"slave\",\"shame\",\"cheek\",\"ample\",\"flair\",\"foyer\",\"cargo\",\"oxide\",\"plant\",\"olive\",\"inert\",\"askew\",\"heist\",\"shown\",\"zesty\",\"hasty\",\"trash\",\"fella\",\"larva\",\"forgo\",\"story\",\"hairy\",\"train\",\"homer\",\"badge\",\"midst\",\"canny\",\"fetus\",\"butch\",\"farce\",\"slung\",\"tipsy\",\"metal\",\"yield\",\"delve\",\"being\",\"scour\",\"glass\",\"gamer\",\"scrap\",\"money\",\"hinge\",\"album\",\"vouch\",\"asset\",\"tiara\",\"crept\",\"bayou\",\"atoll\",\"manor\",\"creak\",\"showy\",\"phase\",\"froth\",\"depth\",\"gloom\",\"flood\",\"trait\",\"girth\",\"piety\",\"payer\",\"goose\",\"float\",\"donor\",\"atone\",\"primo\",\"apron\",\"blown\",\"cacao\",\"loser\",\"input\",\"gloat\",\"awful\",\"brink\",\"smite\",\"beady\",\"rusty\",\"retro\",\"droll\",\"gawky\",\"hutch\",\"pinto\",\"gaily\",\"egret\",\"lilac\",\"sever\",\"field\",\"fluff\",\"hydro\",\"flack\",\"agape\",\"wench\",\"voice\",\"stead\",\"stalk\",\"berth\",\"madam\",\"night\",\"bland\",\"liver\",\"wedge\",\"augur\",\"roomy\",\"wacky\",\"flock\",\"angry\",\"bobby\",\"trite\",\"aphid\",\"tryst\",\"midge\",\"power\",\"elope\",\"cinch\",\"motto\",\"stomp\",\"upset\",\"bluff\",\"cramp\",\"quart\",\"coyly\",\"youth\",\"rhyme\",\"buggy\",\"alien\",\"smear\",\"unfit\",\"patty\",\"cling\",\"glean\",\"label\",\"hunky\",\"khaki\",\"poker\",\"gruel\",\"twice\",\"twang\",\"shrug\",\"treat\",\"unlit\",\"waste\",\"merit\",\"woven\",\"octal\",\"needy\",\"clown\",\"widow\",\"irony\",\"ruder\",\"gauze\",\"chief\",\"onset\",\"prize\",\"fungi\",\"charm\",\"gully\",\"inter\",\"whoop\",\"taunt\",\"leery\",\"class\",\"theme\",\"lofty\",\"tibia\",\"booze\",\"alpha\",\"thyme\",\"eclat\",\"doubt\",\"parer\",\"chute\",\"stick\",\"trice\",\"alike\",\"sooth\",\"recap\",\"saint\",\"liege\",\"glory\",\"grate\",\"admit\",\"brisk\",\"soggy\",\"usurp\",\"scald\",\"scorn\",\"leave\",\"twine\",\"sting\",\"bough\",\"marsh\",\"sloth\",\"dandy\",\"vigor\",\"howdy\",\"enjoy\",\"valid\",\"ionic\",\"equal\",\"unset\",\"floor\",\"catch\",\"spade\",\"stein\",\"exist\",\"quirk\",\"denim\",\"grove\",\"spiel\",\"mummy\",\"fault\",\"foggy\",\"flout\",\"carry\",\"sneak\",\"libel\",\"waltz\",\"aptly\",\"piney\",\"inept\",\"aloud\",\"photo\",\"dream\",\"stale\",\"vomit\",\"ombre\",\"fanny\",\"unite\",\"snarl\",\"baker\",\"there\",\"glyph\",\"pooch\",\"hippy\",\"spell\",\"folly\",\"louse\",\"gulch\",\"vault\",\"godly\",\"threw\",\"fleet\",\"grave\",\"inane\",\"shock\",\"crave\",\"spite\",\"valve\",\"skimp\",\"claim\",\"rainy\",\"musty\",\"pique\",\"daddy\",\"quasi\",\"arise\",\"aging\",\"valet\",\"opium\",\"avert\",\"stuck\",\"recut\",\"mulch\",\"genre\",\"plume\",\"rifle\",\"count\",\"incur\",\"total\",\"wrest\",\"mocha\",\"deter\",\"study\",\"lover\",\"safer\",\"rivet\",\"funny\",\"smoke\",\"mound\",\"undue\",\"sedan\",\"pagan\",\"swine\",\"guile\",\"gusty\",\"equip\",\"tough\",\"canoe\",\"chaos\",\"covet\",\"human\",\"udder\",\"lunch\",\"blast\",\"stray\",\"manga\",\"melee\",\"lefty\",\"quick\",\"paste\",\"given\",\"octet\",\"risen\",\"groan\",\"leaky\",\"grind\",\"carve\",\"loose\",\"sadly\",\"spilt\",\"apple\",\"slack\",\"honey\",\"final\",\"sheen\",\"eerie\",\"minty\",\"slick\",\"derby\",\"wharf\",\"spelt\",\"coach\",\"erupt\",\"singe\",\"price\",\"spawn\",\"fairy\",\"jiffy\",\"filmy\",\"stack\",\"chose\",\"sleep\",\"ardor\",\"nanny\",\"niece\",\"woozy\",\"handy\",\"grace\",\"ditto\",\"stank\",\"cream\",\"usual\",\"diode\",\"valor\",\"angle\",\"ninja\",\"muddy\",\"chase\",\"reply\",\"prone\",\"spoil\",\"heart\",\"shade\",\"diner\",\"arson\",\"onion\",\"sleet\",\"dowel\",\"couch\",\"palsy\",\"bowel\",\"smile\",\"evoke\",\"creek\",\"lance\",\"eagle\",\"idiot\",\"siren\",\"built\",\"embed\",\"award\",\"dross\",\"annul\",\"goody\",\"frown\",\"patio\",\"laden\",\"humid\",\"elite\",\"lymph\",\"edify\",\"might\",\"reset\",\"visit\",\"gusto\",\"purse\",\"vapor\",\"crock\",\"write\",\"sunny\",\"loath\",\"chaff\",\"slide\",\"queer\",\"venom\",\"stamp\",\"sorry\",\"still\",\"acorn\",\"aping\",\"pushy\",\"tamer\",\"hater\",\"mania\",\"awoke\",\"brawn\",\"swift\",\"exile\",\"birch\",\"lucky\",\"freer\",\"risky\",\"ghost\",\"plier\",\"lunar\",\"winch\",\"snare\",\"nurse\",\"house\",\"borax\",\"nicer\",\"lurch\",\"exalt\",\"about\",\"savvy\",\"toxin\",\"tunic\",\"pried\",\"inlay\",\"chump\",\"lanky\",\"cress\",\"eater\",\"elude\",\"cycle\",\"kitty\",\"boule\",\"moron\",\"tenet\",\"place\",\"lobby\",\"plush\",\"vigil\",\"index\",\"blink\",\"clung\",\"qualm\",\"croup\",\"clink\",\"juicy\",\"stage\",\"decay\",\"nerve\",\"flier\",\"shaft\",\"crook\",\"clean\",\"china\",\"ridge\",\"vowel\",\"gnome\",\"snuck\",\"icing\",\"spiny\",\"rigor\",\"snail\",\"flown\",\"rabid\",\"prose\",\"thank\",\"poppy\",\"budge\",\"fiber\",\"moldy\",\"dowdy\",\"kneel\",\"track\",\"caddy\",\"quell\",\"dumpy\",\"paler\",\"swore\",\"rebar\",\"scuba\",\"splat\",\"flyer\",\"horny\",\"mason\",\"doing\",\"ozone\",\"amply\",\"molar\",\"ovary\",\"beset\",\"queue\",\"cliff\",\"magic\",\"truce\",\"sport\",\"fritz\",\"edict\",\"twirl\",\"verse\",\"llama\",\"eaten\",\"range\",\"whisk\",\"hovel\",\"rehab\",\"macaw\",\"sigma\",\"spout\",\"verve\",\"sushi\",\"dying\",\"fetid\",\"brain\",\"buddy\",\"thump\",\"scion\",\"candy\",\"chord\",\"basin\",\"march\",\"crowd\",\"arbor\",\"gayly\",\"musky\",\"stain\",\"dally\",\"bless\",\"bravo\",\"stung\",\"title\",\"ruler\",\"kiosk\",\"blond\",\"ennui\",\"layer\",\"fluid\",\"tatty\",\"score\",\"cutie\",\"zebra\",\"barge\",\"matey\",\"bluer\",\"aider\",\"shook\",\"river\",\"privy\",\"betel\",\"frisk\",\"bongo\",\"begun\",\"azure\",\"weave\",\"genie\",\"sound\",\"glove\",\"braid\",\"scope\",\"wryly\",\"rover\",\"assay\",\"ocean\",\"bloom\",\"irate\",\"later\",\"woken\",\"silky\",\"wreck\",\"dwelt\",\"slate\",\"smack\",\"solid\",\"amaze\",\"hazel\",\"wrist\",\"jolly\",\"globe\",\"flint\",\"rouse\",\"civil\",\"vista\",\"relax\",\"cover\",\"alive\",\"beech\",\"jetty\",\"bliss\",\"vocal\",\"often\",\"dolly\",\"eight\",\"joker\",\"since\",\"event\",\"ensue\",\"shunt\",\"diver\",\"poser\",\"worst\",\"sweep\",\"alley\",\"creed\",\"anime\",\"leafy\",\"bosom\",\"dunce\",\"stare\",\"pudgy\",\"waive\",\"choir\",\"stood\",\"spoke\",\"outgo\",\"delay\",\"bilge\",\"ideal\",\"clasp\",\"seize\",\"hotly\",\"laugh\",\"sieve\",\"block\",\"meant\",\"grape\",\"noose\",\"hardy\",\"shied\",\"drawl\",\"daisy\",\"putty\",\"strut\",\"burnt\",\"tulip\",\"crick\",\"idyll\",\"vixen\",\"furor\",\"geeky\",\"cough\",\"naive\",\"shoal\",\"stork\",\"bathe\",\"aunty\",\"check\",\"prime\",\"brass\",\"outer\",\"furry\",\"razor\",\"elect\",\"evict\",\"imply\",\"demur\",\"quota\",\"haven\",\"cavil\",\"swear\",\"crump\",\"dough\",\"gavel\",\"wagon\",\"salon\",\"nudge\",\"harem\",\"pitch\",\"sworn\",\"pupil\",\"excel\",\"stony\",\"cabin\",\"unzip\",\"queen\",\"trout\",\"polyp\",\"earth\",\"storm\",\"until\",\"taper\",\"enter\",\"child\",\"adopt\",\"minor\",\"fatty\",\"husky\",\"brave\",\"filet\",\"slime\",\"glint\",\"tread\",\"steal\",\"regal\",\"guest\",\"every\",\"murky\",\"share\",\"spore\",\"hoist\",\"buxom\",\"inner\",\"otter\",\"dimly\",\"level\",\"sumac\",\"donut\",\"stilt\",\"arena\",\"sheet\",\"scrub\",\"fancy\",\"slimy\",\"pearl\",\"silly\",\"porch\",\"dingo\",\"sepia\",\"amble\",\"shady\",\"bread\",\"friar\",\"reign\",\"dairy\",\"quill\",\"cross\",\"brood\",\"tuber\",\"shear\",\"posit\",\"blank\",\"villa\",\"shank\",\"piggy\",\"freak\",\"which\",\"among\",\"fecal\",\"shell\",\"would\",\"algae\",\"large\",\"rabbi\",\"agony\",\"amuse\",\"bushy\",\"copse\",\"swoon\",\"knife\",\"pouch\",\"ascot\",\"plane\",\"crown\",\"urban\",\"snide\",\"relay\",\"abide\",\"viola\",\"rajah\",\"straw\",\"dilly\",\"crash\",\"amass\",\"third\",\"trick\",\"tutor\",\"woody\",\"blurb\",\"grief\",\"disco\",\"where\",\"sassy\",\"beach\",\"sauna\",\"comic\",\"clued\",\"creep\",\"caste\",\"graze\",\"snuff\",\"frock\",\"gonad\",\"drunk\",\"prong\",\"lurid\",\"steel\",\"halve\",\"buyer\",\"vinyl\",\"utile\",\"smell\",\"adage\",\"worry\",\"tasty\",\"local\",\"trade\",\"finch\",\"ashen\",\"modal\",\"gaunt\",\"clove\",\"enact\",\"adorn\",\"roast\",\"speck\",\"sheik\",\"missy\",\"grunt\",\"snoop\",\"party\",\"touch\",\"mafia\",\"emcee\",\"array\",\"south\",\"vapid\",\"jelly\",\"skulk\",\"angst\",\"tubal\",\"lower\",\"crest\",\"sweat\",\"cyber\",\"adore\",\"tardy\",\"swami\",\"notch\",\"groom\",\"roach\",\"hitch\",\"young\",\"align\",\"ready\",\"frond\",\"strap\",\"puree\",\"realm\",\"venue\",\"swarm\",\"offer\",\"seven\",\"dryer\",\"diary\",\"dryly\",\"drank\",\"acrid\",\"heady\",\"theta\",\"junto\",\"pixie\",\"quoth\",\"bonus\",\"shalt\",\"penne\",\"amend\",\"datum\",\"build\",\"piano\",\"shelf\",\"lodge\",\"suing\",\"rearm\",\"coral\",\"ramen\",\"worth\",\"psalm\",\"infer\",\"overt\",\"mayor\",\"ovoid\",\"glide\",\"usage\",\"poise\",\"randy\",\"chuck\",\"prank\",\"fishy\",\"tooth\",\"ether\",\"drove\",\"idler\",\"swath\",\"stint\",\"while\",\"begat\",\"apply\",\"slang\",\"tarot\",\"radar\",\"credo\",\"aware\",\"canon\",\"shift\",\"timer\",\"bylaw\",\"serum\",\"three\",\"steak\",\"iliac\",\"shirk\",\"blunt\",\"puppy\",\"penal\",\"joist\",\"bunny\",\"shape\",\"beget\",\"wheel\",\"adept\",\"stunt\",\"stole\",\"topaz\",\"chore\",\"fluke\",\"afoot\",\"bloat\",\"bully\",\"dense\",\"caper\",\"sneer\",\"boxer\",\"jumbo\",\"lunge\",\"space\",\"avail\",\"short\",\"slurp\",\"loyal\",\"flirt\",\"pizza\",\"conch\",\"tempo\",\"droop\",\"plate\",\"bible\",\"plunk\",\"afoul\",\"savoy\",\"steep\",\"agile\",\"stake\",\"dwell\",\"knave\",\"beard\",\"arose\",\"motif\",\"smash\",\"broil\",\"glare\",\"shove\",\"baggy\",\"mammy\",\"swamp\",\"along\",\"rugby\",\"wager\",\"quack\",\"squat\",\"snaky\",\"debit\",\"mange\",\"skate\",\"ninth\",\"joust\",\"tramp\",\"spurn\",\"medal\",\"micro\",\"rebel\",\"flank\",\"learn\",\"nadir\",\"maple\",\"comfy\",\"remit\",\"gruff\",\"ester\",\"least\",\"mogul\",\"fetch\",\"cause\",\"oaken\",\"aglow\",\"meaty\",\"gaffe\",\"shyly\",\"racer\",\"prowl\",\"thief\",\"stern\",\"poesy\",\"rocky\",\"tweet\",\"waist\",\"spire\",\"grope\",\"havoc\",\"patsy\",\"truly\",\"forty\",\"deity\",\"uncle\",\"swish\",\"giver\",\"preen\",\"bevel\",\"lemur\",\"draft\",\"slope\",\"annoy\",\"lingo\",\"bleak\",\"ditty\",\"curly\",\"cedar\",\"dirge\",\"grown\",\"horde\",\"drool\",\"shuck\",\"crypt\",\"cumin\",\"stock\",\"gravy\",\"locus\",\"wider\",\"breed\",\"quite\",\"chafe\",\"cache\",\"blimp\",\"deign\",\"fiend\",\"logic\",\"cheap\",\"elide\",\"rigid\",\"false\",\"renal\",\"pence\",\"rowdy\",\"shoot\",\"blaze\",\"envoy\",\"posse\",\"brief\",\"never\",\"abort\",\"mouse\",\"mucky\",\"sulky\",\"fiery\",\"media\",\"trunk\",\"yeast\",\"clear\",\"skunk\",\"scalp\",\"bitty\",\"cider\",\"koala\",\"duvet\",\"segue\",\"creme\",\"super\",\"grill\",\"after\",\"owner\",\"ember\",\"reach\",\"nobly\",\"empty\",\"speed\",\"gipsy\",\"recur\",\"smock\",\"dread\",\"merge\",\"burst\",\"kappa\",\"amity\",\"shaky\",\"hover\",\"carol\",\"snort\",\"synod\",\"faint\",\"haunt\",\"flour\",\"chair\",\"detox\",\"shrew\",\"tense\",\"plied\",\"quark\",\"burly\",\"novel\",\"waxen\",\"stoic\",\"jerky\",\"blitz\",\"beefy\",\"lyric\",\"hussy\",\"towel\",\"quilt\",\"below\",\"bingo\",\"wispy\",\"brash\",\"scone\",\"toast\",\"easel\",\"saucy\",\"value\",\"spice\",\"honor\",\"route\",\"sharp\",\"bawdy\",\"radii\",\"skull\",\"phony\",\"issue\",\"lager\",\"swell\",\"urine\",\"gassy\",\"trial\",\"flora\",\"upper\",\"latch\",\"wight\",\"brick\",\"retry\",\"holly\",\"decal\",\"grass\",\"shack\",\"dogma\",\"mover\",\"defer\",\"sober\",\"optic\",\"crier\",\"vying\",\"nomad\",\"flute\",\"hippo\",\"shark\",\"drier\",\"obese\",\"bugle\",\"tawny\",\"chalk\",\"feast\",\"ruddy\",\"pedal\",\"scarf\",\"cruel\",\"bleat\",\"tidal\",\"slush\",\"semen\",\"windy\",\"dusty\",\"sally\",\"igloo\",\"nerdy\",\"jewel\",\"shone\",\"whale\",\"hymen\",\"abuse\",\"fugue\",\"elbow\",\"crumb\",\"pansy\",\"welsh\",\"syrup\",\"terse\",\"suave\",\"gamut\",\"swung\",\"drake\",\"freed\",\"afire\",\"shirt\",\"grout\",\"oddly\",\"tithe\",\"plaid\",\"dummy\",\"broom\",\"blind\",\"torch\",\"enemy\",\"again\",\"tying\",\"pesky\",\"alter\",\"gazer\",\"noble\",\"ethos\",\"bride\",\"extol\",\"decor\",\"hobby\",\"beast\",\"idiom\",\"utter\",\"these\",\"sixth\",\"alarm\",\"erase\",\"elegy\",\"spunk\",\"piper\",\"scaly\",\"scold\",\"hefty\",\"chick\",\"sooty\",\"canal\",\"whiny\",\"slash\",\"quake\",\"joint\",\"swept\",\"prude\",\"heavy\",\"wield\",\"femme\",\"lasso\",\"maize\",\"shale\",\"screw\",\"spree\",\"smoky\",\"whiff\",\"scent\",\"glade\",\"spent\",\"prism\",\"stoke\",\"riper\",\"orbit\",\"cocoa\",\"guilt\",\"humus\",\"shush\",\"table\",\"smirk\",\"wrong\",\"noisy\",\"alert\",\"shiny\",\"elate\",\"resin\",\"whole\",\"hunch\",\"pixel\",\"polar\",\"hotel\",\"sword\",\"cleat\",\"mango\",\"rumba\",\"puffy\",\"filly\",\"billy\",\"leash\",\"clout\",\"dance\",\"ovate\",\"facet\",\"chili\",\"paint\",\"liner\",\"curio\",\"salty\",\"audio\",\"snake\",\"fable\",\"cloak\",\"navel\",\"spurt\",\"pesto\",\"balmy\",\"flash\",\"unwed\",\"early\",\"churn\",\"weedy\",\"stump\",\"lease\",\"witty\",\"wimpy\",\"spoof\",\"saner\",\"blend\",\"salsa\",\"thick\",\"warty\",\"manic\",\"blare\",\"squib\",\"spoon\",\"probe\",\"crepe\",\"knack\",\"force\",\"debut\",\"order\",\"haste\",\"teeth\",\"agent\",\"widen\",\"icily\",\"slice\",\"ingot\",\"clash\",\"juror\",\"blood\",\"abode\",\"throw\",\"unity\",\"pivot\",\"slept\",\"troop\",\"spare\",\"sewer\",\"parse\",\"morph\",\"cacti\",\"tacky\",\"spool\",\"demon\",\"moody\",\"annex\",\"begin\",\"fuzzy\",\"patch\",\"water\",\"lumpy\",\"admin\",\"omega\",\"limit\",\"tabby\",\"macho\",\"aisle\",\"skiff\",\"basis\",\"plank\",\"verge\",\"botch\",\"crawl\",\"lousy\",\"slain\",\"cubic\",\"raise\",\"wrack\",\"guide\",\"foist\",\"cameo\",\"under\",\"actor\",\"revue\",\"fraud\",\"harpy\",\"scoop\",\"climb\",\"refer\",\"olden\",\"clerk\",\"debar\",\"tally\",\"ethic\",\"cairn\",\"tulle\",\"ghoul\",\"hilly\",\"crude\",\"apart\",\"scale\",\"older\",\"plain\",\"sperm\",\"briny\",\"abbot\",\"rerun\",\"quest\",\"crisp\",\"bound\",\"befit\",\"drawn\",\"suite\",\"itchy\",\"cheer\",\"bagel\",\"guess\",\"broad\",\"axiom\",\"chard\",\"caput\",\"leant\",\"harsh\",\"curse\",\"proud\",\"swing\",\"opine\",\"taste\",\"lupus\",\"gumbo\",\"miner\",\"green\",\"chasm\",\"lipid\",\"topic\",\"armor\",\"brush\",\"crane\",\"mural\",\"abled\",\"habit\",\"bossy\",\"maker\",\"dusky\",\"dizzy\",\"lithe\",\"brook\",\"jazzy\",\"fifty\",\"sense\",\"giant\",\"surly\",\"legal\",\"fatal\",\"flunk\",\"began\",\"prune\",\"small\",\"slant\",\"scoff\",\"torus\",\"ninny\",\"covey\",\"viper\",\"taken\",\"moral\",\"vogue\",\"owing\",\"token\",\"entry\",\"booth\",\"voter\",\"chide\",\"elfin\",\"ebony\",\"neigh\",\"minim\",\"melon\",\"kneed\",\"decoy\",\"voila\",\"ankle\",\"arrow\",\"mushy\",\"tribe\",\"cease\",\"eager\",\"birth\",\"graph\",\"odder\",\"terra\",\"weird\",\"tried\",\"clack\",\"color\",\"rough\",\"weigh\",\"uncut\",\"ladle\",\"strip\",\"craft\",\"minus\",\"dicey\",\"titan\",\"lucid\",\"vicar\",\"dress\",\"ditch\",\"gypsy\",\"pasta\",\"taffy\",\"flame\",\"swoop\",\"aloof\",\"sight\",\"broke\",\"teary\",\"chart\",\"sixty\",\"wordy\",\"sheer\",\"leper\",\"nosey\",\"bulge\",\"savor\",\"clamp\",\"funky\",\"foamy\",\"toxic\",\"brand\",\"plumb\",\"dingy\",\"butte\",\"drill\",\"tripe\",\"bicep\",\"tenor\",\"krill\",\"worse\",\"drama\",\"hyena\",\"think\",\"ratio\",\"cobra\",\"basil\",\"scrum\",\"bused\",\"phone\",\"court\",\"camel\",\"proof\",\"heard\",\"angel\",\"petal\",\"pouty\",\"throb\",\"maybe\",\"fetal\",\"sprig\",\"spine\",\"shout\",\"cadet\",\"macro\",\"dodgy\",\"satyr\",\"rarer\",\"binge\",\"trend\",\"nutty\",\"leapt\",\"amiss\",\"split\",\"myrrh\",\"width\",\"sonar\",\"tower\",\"baron\",\"fever\",\"waver\",\"spark\",\"belie\",\"sloop\",\"expel\",\"smote\",\"baler\",\"above\",\"north\",\"wafer\",\"scant\",\"frill\",\"awash\",\"snack\",\"scowl\",\"frail\",\"drift\",\"limbo\",\"fence\",\"motel\",\"ounce\",\"wreak\",\"revel\",\"talon\",\"prior\",\"knelt\",\"cello\",\"flake\",\"debug\",\"anode\",\"crime\",\"salve\",\"scout\",\"imbue\",\"pinky\",\"stave\",\"vague\",\"chock\",\"fight\",\"video\",\"stone\",\"teach\",\"cleft\",\"frost\",\"prawn\",\"booty\",\"twist\",\"apnea\",\"stiff\",\"plaza\",\"ledge\",\"tweak\",\"board\",\"grant\",\"medic\",\"bacon\",\"cable\",\"brawl\",\"slunk\",\"raspy\",\"forum\",\"drone\",\"women\",\"mucus\",\"boast\",\"toddy\",\"coven\",\"tumor\",\"truer\",\"wrath\",\"stall\",\"steam\",\"axial\",\"purer\",\"daily\",\"trail\",\"niche\",\"mealy\",\"juice\",\"nylon\",\"plump\",\"merry\",\"flail\",\"papal\",\"wheat\",\"berry\",\"cower\",\"erect\",\"brute\",\"leggy\",\"snipe\",\"sinew\",\"skier\",\"penny\",\"jumpy\",\"rally\",\"umbra\",\"scary\",\"modem\",\"gross\",\"avian\",\"greed\",\"satin\",\"tonic\",\"parka\",\"sniff\",\"livid\",\"stark\",\"trump\",\"giddy\",\"reuse\",\"taboo\",\"avoid\",\"quote\",\"devil\",\"liken\",\"gloss\",\"gayer\",\"beret\",\"noise\",\"gland\",\"dealt\",\"sling\",\"rumor\",\"opera\",\"thigh\",\"tonga\",\"flare\",\"wound\",\"white\",\"bulky\",\"etude\",\"horse\",\"circa\",\"paddy\",\"inbox\",\"fizzy\",\"grain\",\"exert\",\"surge\",\"gleam\",\"belle\",\"salvo\",\"crush\",\"fruit\",\"sappy\",\"taker\",\"tract\",\"ovine\",\"spiky\",\"frank\",\"reedy\",\"filth\",\"spasm\",\"heave\",\"mambo\",\"right\",\"clank\",\"trust\",\"lumen\",\"borne\",\"spook\",\"sauce\",\"amber\",\"lathe\",\"carat\",\"corer\",\"dirty\",\"slyly\",\"affix\",\"alloy\",\"taint\",\"sheep\",\"kinky\",\"wooly\",\"mauve\",\"flung\",\"yacht\",\"fried\",\"quail\",\"brunt\",\"grimy\",\"curvy\",\"cagey\",\"rinse\",\"deuce\",\"state\",\"grasp\",\"milky\",\"bison\",\"graft\",\"sandy\",\"baste\",\"flask\",\"hedge\",\"girly\",\"swash\",\"boney\",\"coupe\",\"endow\",\"abhor\",\"welch\",\"blade\",\"tight\",\"geese\",\"miser\",\"mirth\",\"cloud\",\"cabal\",\"leech\",\"close\",\"tenth\",\"pecan\",\"droit\",\"grail\",\"clone\",\"guise\",\"ralph\",\"tango\",\"biddy\",\"smith\",\"mower\",\"payee\",\"serif\",\"drape\",\"fifth\",\"spank\",\"glaze\",\"allot\",\"truck\",\"kayak\",\"virus\",\"testy\",\"tepee\",\"fully\",\"zonal\",\"metro\",\"curry\",\"grand\",\"banjo\",\"axion\",\"bezel\",\"occur\",\"chain\",\"nasal\",\"gooey\",\"filer\",\"brace\",\"allay\",\"pubic\",\"raven\",\"plead\",\"gnash\",\"flaky\",\"munch\",\"dully\",\"eking\",\"thing\",\"slink\",\"hurry\",\"theft\",\"shorn\",\"pygmy\",\"ranch\",\"wring\",\"lemon\",\"shore\",\"mamma\",\"froze\",\"newer\",\"style\",\"moose\",\"antic\",\"drown\",\"vegan\",\"chess\",\"guppy\",\"union\",\"lever\",\"lorry\",\"image\",\"cabby\",\"druid\",\"exact\",\"truth\",\"dopey\",\"spear\",\"cried\",\"chime\",\"crony\",\"stunk\",\"timid\",\"batch\",\"gauge\",\"rotor\",\"crack\",\"curve\",\"latte\",\"witch\",\"bunch\",\"repel\",\"anvil\",\"soapy\",\"meter\",\"broth\",\"madly\",\"dried\",\"scene\",\"known\",\"magma\",\"roost\",\"woman\",\"thong\",\"punch\",\"pasty\",\"downy\",\"knead\",\"whirl\",\"rapid\",\"clang\",\"anger\",\"drive\",\"goofy\",\"email\",\"music\",\"stuff\",\"bleep\",\"rider\",\"mecca\",\"folio\",\"setup\",\"verso\",\"quash\",\"fauna\",\"gummy\",\"happy\",\"newly\",\"fussy\",\"relic\",\"guava\",\"ratty\",\"fudge\",\"femur\",\"chirp\",\"forte\",\"alibi\",\"whine\",\"petty\",\"golly\",\"plait\",\"fleck\",\"felon\",\"gourd\",\"brown\",\"thrum\",\"ficus\",\"stash\",\"decry\",\"wiser\",\"junta\",\"visor\",\"daunt\",\"scree\",\"impel\",\"await\",\"press\",\"whose\",\"turbo\",\"stoop\",\"speak\",\"mangy\",\"eying\",\"inlet\",\"crone\",\"pulse\",\"mossy\",\"staid\",\"hence\",\"pinch\",\"teddy\",\"sully\",\"snore\",\"ripen\",\"snowy\",\"attic\",\"going\",\"leach\",\"mouth\",\"hound\",\"clump\",\"tonal\",\"bigot\",\"peril\",\"piece\",\"blame\",\"haute\",\"spied\",\"undid\",\"intro\",\"basal\",\"shine\",\"gecko\",\"rodeo\",\"guard\",\"steer\",\"loamy\",\"scamp\",\"scram\",\"manly\",\"hello\",\"vaunt\",\"organ\",\"feral\",\"knock\",\"extra\",\"condo\",\"adapt\",\"willy\",\"polka\",\"rayon\",\"skirt\",\"faith\",\"torso\",\"match\",\"mercy\",\"tepid\",\"sleek\",\"riser\",\"twixt\",\"peace\",\"flush\",\"catty\",\"login\",\"eject\",\"roger\",\"rival\",\"untie\",\"refit\",\"aorta\",\"adult\",\"judge\",\"rower\",\"artsy\",\"rural\",\"shave\"]\n",
    "    self.words_full = [word.lower() for word in self.words_full]\n",
    "    self.words = self.words_full.copy()\n",
    "    self.k=k\n",
    "    self.n=len(self.words)\n",
    "\n",
    "  def calculate_word_similarity(self,a,b):\n",
    "    assert len(a)==len(b), f'{a} is a different length than {b}'\n",
    "    score = np.sum([1 for i in range(len(a)) if a[i]==b[i]])\n",
    "    a_set = set(a)\n",
    "    b_set = set(b)\n",
    "    return (score + len(a_set.intersection(b_set)))/10\n",
    "  \n",
    "  def make_similarity_graph(self):\n",
    "    n = len(self.words)\n",
    "    self.G=np.zeros((n,n))\n",
    "    for i in range(n):\n",
    "      for j in range(n):\n",
    "        self.G[i,j]=self.calculate_word_similarity(self.words[i],self.words[j])\n",
    "    self.G_csr = csr_matrix(self.G)\n",
    "  \n",
    "  def save_similarity_graph(self):\n",
    "    self.G_full = self.G.copy()\n",
    "    self.G_csr_full = self.G_csr.copy()\n",
    "\n",
    "  def make_clusters(self):\n",
    "    if len(self.words)>self.k:\n",
    "      self.clusters= SpectralClustering(n_clusters=self.k,\n",
    "                              assign_labels='discretize',\n",
    "                              affinity='precomputed',\n",
    "                              random_state=13).fit_predict(self.G_csr)\n",
    "    else:\n",
    "      self.clusters = np.array([i for i in range(self.n)])\n",
    "\n",
    "  def make_cluster_frequencies(self):\n",
    "    labels, cluster_counts = np.unique(self.clusters,return_counts=True)\n",
    "    self.cluster_freqs = cluster_counts / np.sum(cluster_counts)\n",
    "  \n",
    "  def make_word_groups(self):\n",
    "    self.words_arr = np.array(self.words)\n",
    "    self.word_groups = []\n",
    "    for i in range(self.k):\n",
    "      if i>=len(self.clusters):\n",
    "        self.word_groups.append(np.array([]))\n",
    "      else:\n",
    "        self.word_groups.append(np.asarray(self.clusters==i).nonzero()[0])\n",
    "\n",
    "  def get_state(self):\n",
    "    cluster_bins=''\n",
    "    for i in range(self.k):\n",
    "      if i>=len(self.cluster_freqs):\n",
    "        cluster_bins=cluster_bins + '0'\n",
    "      elif self.cluster_freqs[i]>0.8:\n",
    "        cluster_bins = cluster_bins + '4'\n",
    "      elif self.cluster_freqs[i]>0.6:\n",
    "        cluster_bins = cluster_bins + '3'\n",
    "      elif self.cluster_freqs[i]>0.4:\n",
    "        cluster_bins = cluster_bins + '2'\n",
    "      elif self.cluster_freqs[i]>0.2:\n",
    "        cluster_bins = cluster_bins + '1'\n",
    "      else:\n",
    "        cluster_bins = cluster_bins + '0'\n",
    "    \n",
    "    return cluster_bins\n",
    "\n",
    "  def get_word_cluster(self,cluster_index):\n",
    "    return self.words_arr[self.word_groups[cluster_index]]\n",
    "  \n",
    "  def get_cluster_centroid(self,cluster_index):\n",
    "    if len(self.word_groups[cluster_index])>0:\n",
    "      idx = self.word_groups[cluster_index]\n",
    "    else:\n",
    "      idx = np.array([0])\n",
    "    return self.words_arr[idx][np.argmax(np.sum(self.G[idx,:],axis=1))]\n",
    "\n",
    "  def filter_words(self, guess, feedback):\n",
    "    self.new_words = []\n",
    "    for word in self.words:\n",
    "      add_word=True\n",
    "      i=0\n",
    "      allowed_chars=set()\n",
    "      for j in range(len(feedback)):\n",
    "        if feedback[j]>0:\n",
    "          allowed_chars.add(guess[j])\n",
    "      while add_word and i<len(feedback):\n",
    "        if feedback[i]==0 and guess[i] in word and guess[i] not in allowed_chars:\n",
    "          add_word=False\n",
    "        elif feedback[i]==1 and guess[i] not in word:\n",
    "          add_word=False\n",
    "        elif feedback[i]==1 and word[i]==guess[i]:\n",
    "          add_word=False\n",
    "        elif feedback[i]==2 and word[i]!=guess[i]:\n",
    "          add_word=False\n",
    "        i+=1\n",
    "      if add_word:\n",
    "        self.new_words.append(word)\n",
    "    assert self.new_words, f'Filtering failed with guess: {guess} and feedback: {feedback}'\n",
    "        \n",
    "  def get_reward(self, feedback):\n",
    "    shrink_factor = self.n / len(self.new_words)\n",
    "    if np.sum(feedback)==10:\n",
    "      shrink_factor+=1000\n",
    "    return np.sum(feedback) + shrink_factor\n",
    "\n",
    "  def update_word_list(self):\n",
    "    self.words = self.new_words\n",
    "    self.n=len(self.words)\n",
    "  \n",
    "  def reset(self):\n",
    "    self.words = self.words_full.copy()\n",
    "    self.n = len(self.words)\n",
    "    self.G = self.G_full.copy()\n",
    "    self.G_csr = self.G_csr_full.copy()\n"
   ]
  },
  {
   "cell_type": "markdown",
   "metadata": {
    "id": "dEaoFDYGqP3J"
   },
   "source": [
    "### Q Learner Class"
   ]
  },
  {
   "cell_type": "markdown",
   "metadata": {
    "id": "b26X7c6UqUE6"
   },
   "source": [
    "The below cell defines a Q Learner class with the following responsibilities:\n",
    "* Use information about current state ($s$), current action ($a$), new state ($s'$), and associated reward ($r$) to iteratively build a Q Table\n",
    "* Use the Q Table to choose an action (either randomly or to maximize expected reward based on an exponentially decaying random-action threshold)"
   ]
  },
  {
   "cell_type": "code",
   "execution_count": 3,
   "metadata": {
    "id": "lZ7Q6Gd_qOsU"
   },
   "outputs": [],
   "source": [
    "class QLearner():\n",
    "  def __init__(self,\n",
    "               action_count=5,\n",
    "               alpha=0.2,\n",
    "               gamma=0.9,\n",
    "               random_action_rate=0.5,\n",
    "               random_action_decay_rate=0.99):\n",
    "    self.action_count=action_count\n",
    "    self.alpha=alpha\n",
    "    self.gamma=gamma\n",
    "    self.random_action_rate=random_action_decay_rate\n",
    "    self.random_action_decay_rate=random_action_decay_rate\n",
    "    self.s='10001'\n",
    "    self.a=0\n",
    "    self.qtable={'10001':np.zeros(self.action_count)}\n",
    "  \n",
    "  def get_random_action(self):\n",
    "    return random.randint(0, self.action_count-1)\n",
    "  \n",
    "  def update_qtable(self,s,a,s_prime,r):\n",
    "    if s_prime in self.qtable.keys():\n",
    "      a_prime = np.argmax(self.qtable[s_prime])\n",
    "    else:\n",
    "      self.qtable[s_prime]=np.zeros(self.action_count)\n",
    "      a_prime = random.randint(0,self.action_count-1)\n",
    "    \n",
    "    self.qtable[s][a]=(1-self.alpha)*self.qtable[s][a]+self.alpha*(r+self.gamma*self.qtable[s_prime][a_prime])\n",
    "    return a_prime\n",
    "\n",
    "  def get_action(self, s_prime, r):\n",
    "    a_prime = self.update_qtable(self.s,self.a,s_prime,r)\n",
    "    self.random_action_rate = self.random_action_rate * self.random_action_decay_rate\n",
    "    random_action = np.random.random() <= self.random_action_rate\n",
    "    if random_action:\n",
    "      action = self.get_random_action()\n",
    "    else:\n",
    "      action = a_prime\n",
    "    \n",
    "    self.s=s_prime\n",
    "    self.a=action\n",
    "    return action\n"
   ]
  },
  {
   "cell_type": "markdown",
   "metadata": {
    "id": "KZwxB-d418FR"
   },
   "source": [
    "### Grader Class"
   ]
  },
  {
   "cell_type": "markdown",
   "metadata": {
    "id": "TPzuk6oB1-to"
   },
   "source": [
    "The cell below defines a Grader class with the following responsibilities:\n",
    "* Picks a random word from the word bank\n",
    "* Evaluates each letter (indexed by $i$ from a guessed word and returns feedback in the following form:\n",
    "\n",
    "$$\n",
    "feedback_i = \\begin{cases}\n",
    "0, && if \\ letter \\ not \\ in \\ word  \\\\\n",
    "1, && if \\ letter \\ in \\ word \\ at \\ wrong \\ position \\\\ \n",
    "2 && if \\ letter \\ in \\ word \\ in \\ correct \\ position\n",
    "\\end{cases}\n",
    "$$"
   ]
  },
  {
   "cell_type": "code",
   "execution_count": 4,
   "metadata": {
    "id": "YPgwIoLB1g2i"
   },
   "outputs": [],
   "source": [
    "class Grader():\n",
    "  def __init__(self):\n",
    "    pass\n",
    "  \n",
    "  def pick_word(self,words):\n",
    "    self.word = np.random.choice(words)\n",
    "\n",
    "  def set_word(self,word):\n",
    "    self.word = word\n",
    "  \n",
    "  def evaluate_guess(self,guess):\n",
    "    word_copy=self.word\n",
    "    feedback = np.zeros(5)\n",
    "    for i in range(5):\n",
    "      if guess[i]==self.word[i]:\n",
    "        feedback[i]=2\n",
    "      elif guess[i] in word_copy:\n",
    "        feedback[i]=1\n",
    "        word_char_index = word_copy.index(guess[i])\n",
    "        word_copy = word_copy[:word_char_index] + word_copy[word_char_index+1:]\n",
    "      else:\n",
    "        feedback[i]=0\n",
    "    return feedback\n"
   ]
  },
  {
   "cell_type": "markdown",
   "metadata": {
    "id": "tcqogrmkZnWn"
   },
   "source": [
    "### Main Program"
   ]
  },
  {
   "cell_type": "markdown",
   "metadata": {
    "id": "25Q2z4Xg3-9z"
   },
   "source": [
    "In this section, the Wordle Bot plays 1,000 simulated games where the \"correct\" answer for each game is chosen at random. The number of guesses required to identify the correct word is recorded for each game, and the Bot's performance is described."
   ]
  },
  {
   "cell_type": "code",
   "execution_count": 5,
   "metadata": {
    "id": "t-_JnqrvD393"
   },
   "outputs": [],
   "source": [
    "def initialize_simulation():\n",
    "  interpreter = Interpreter()\n",
    "  interpreter.make_similarity_graph()\n",
    "  interpreter.save_similarity_graph()\n",
    "  qlearner = QLearner()\n",
    "  grader = Grader()\n",
    "    with open('interpreter_instance.pkl', 'wb') as file:\n",
    "        pickle.dump(interpreter, file)\n",
    "\n",
    "    with open('qlearner_instance.pkl', 'wb') as file:\n",
    "        pickle.dump(qlearner, file)\n",
    "  return interpreter, qlearner, grader"
   ]
  },
  {
   "cell_type": "code",
   "execution_count": 6,
   "metadata": {
    "id": "VL5nFrvRE4DB"
   },
   "outputs": [],
   "source": [
    "def run_simulation(interpreter, qlearner, grader, verbose=True):\n",
    "  guess_count=0\n",
    "  grader.pick_word(interpreter.words)\n",
    "  won=False\n",
    "  r=0\n",
    "  while not won:\n",
    "    interpreter.make_clusters()\n",
    "    interpreter.make_cluster_frequencies()\n",
    "    interpreter.make_word_groups()\n",
    "    s = interpreter.get_state()\n",
    "    a = qlearner.get_action(s,r)\n",
    "    guess = interpreter.get_cluster_centroid(a)\n",
    "    print(guess)\n",
    "    feedback = grader.evaluate_guess(guess)\n",
    "    guess_count+=1\n",
    "    if np.sum(feedback)==10:\n",
    "      r = interpreter.get_reward(feedback)\n",
    "      a = qlearner.get_action(s,r)\n",
    "      won=True\n",
    "    else:\n",
    "      interpreter.filter_words(guess, feedback)\n",
    "      r = interpreter.get_reward(feedback)\n",
    "      interpreter.update_word_list()\n",
    "      interpreter.make_similarity_graph()\n",
    "  if verbose:\n",
    "    print(f'Guessed {grader.word} in {guess_count} guesses')\n",
    "  interpreter.reset()\n",
    "  return guess_count, interpreter, qlearner, grader"
   ]
  },
  {
   "cell_type": "code",
   "execution_count": 10,
   "metadata": {},
   "outputs": [],
   "source": [
    "def guess_word(word, interpreter, qlearner, grader):\n",
    "  guesses = []\n",
    "  grader.set_word(word)\n",
    "  won=False\n",
    "  r=0\n",
    "  while not won:\n",
    "    interpreter.make_clusters()\n",
    "    interpreter.make_cluster_frequencies()\n",
    "    interpreter.make_word_groups()\n",
    "    s = interpreter.get_state()\n",
    "    a = qlearner.get_action(s,r)\n",
    "    guess = interpreter.get_cluster_centroid(a)\n",
    "    guesses.append(guess)\n",
    "    feedback = grader.evaluate_guess(guess)\n",
    "    if np.sum(feedback)==10:\n",
    "      r = interpreter.get_reward(feedback)\n",
    "      a = qlearner.get_action(s,r)\n",
    "      won=True\n",
    "    else:\n",
    "      interpreter.filter_words(guess, feedback)\n",
    "      r = interpreter.get_reward(feedback)\n",
    "      interpreter.update_word_list()\n",
    "      interpreter.make_similarity_graph()\n",
    "  interpreter.reset()\n",
    "  return guesses, interpreter, qlearner, grader"
   ]
  },
  {
   "cell_type": "code",
   "execution_count": 11,
   "metadata": {},
   "outputs": [],
   "source": [
    "interpreter, qlearner, grader = initialize_simulation()"
   ]
  },
  {
   "cell_type": "code",
   "execution_count": 12,
   "metadata": {
    "scrolled": true
   },
   "outputs": [
    {
     "name": "stdout",
     "output_type": "stream",
     "text": [
      "['early', 'arise', 'grace', 'trace']\n"
     ]
    }
   ],
   "source": [
    "sample_word = \"trace\"\n",
    "guesses, interpreter, qlearner, grader = guess_word(sample_word, interpreter,qlearner,grader)\n",
    "print(guesses)"
   ]
  },
  {
   "cell_type": "code",
   "execution_count": null,
   "metadata": {
    "id": "u0_1sI5Frp9K"
   },
   "outputs": [],
   "source": [
    "# interpreter, qlearner, grader = initialize_simulation()\n",
    "# training_epochs=100\n",
    "# epochs = np.arange(training_epochs)\n",
    "# guesses = np.zeros(training_epochs)\n",
    "# for i in range(training_epochs):\n",
    "#   guess_count, interpreter, qlearner, grader = run_simulation(interpreter,\n",
    "#                                                             qlearner,\n",
    "#                                                             grader,\n",
    "#                                                             verbose=False)\n",
    "#   guesses[i]=guess_count"
   ]
  },
  {
   "cell_type": "code",
   "execution_count": null,
   "metadata": {
    "colab": {
     "base_uri": "https://localhost:8080/",
     "height": 265
    },
    "id": "g-dMERxPEmd5",
    "outputId": "1281778c-f48f-4485-de89-c46a2253f17a"
   },
   "outputs": [],
   "source": [
    "# %matplotlib inline\n",
    "# plt.bar(epochs,guesses)\n",
    "# plt.show()"
   ]
  },
  {
   "cell_type": "markdown",
   "metadata": {
    "colab": {
     "base_uri": "https://localhost:8080/"
    },
    "id": "63Cai3PnE7uf",
    "outputId": "b826e77b-0555-4634-8f0d-6a66bfe99bd7"
   },
   "source": [
    "print(f'Average guesses: {np.mean(guesses)}')"
   ]
  },
  {
   "cell_type": "markdown",
   "metadata": {
    "colab": {
     "base_uri": "https://localhost:8080/"
    },
    "id": "GW32BPZdFCf-",
    "outputId": "8acbedca-b105-4388-a12a-adb1dc459aed"
   },
   "source": [
    "print(f'Total game losses out of {training_epochs}: {np.sum(guesses>6)}')"
   ]
  },
  {
   "cell_type": "markdown",
   "metadata": {
    "colab": {
     "base_uri": "https://localhost:8080/"
    },
    "id": "L30AVOF-FHmq",
    "outputId": "e31e1bba-c646-45cc-b550-54a1053211a4"
   },
   "source": [
    "print(f'Overall win rate: {(training_epochs-np.sum(guesses>6))/training_epochs*100}%')"
   ]
  }
 ],
 "metadata": {
  "colab": {
   "name": "Wordle_Bot.ipynb",
   "provenance": [],
   "toc_visible": true
  },
  "kernelspec": {
   "display_name": "Python 3",
   "language": "python",
   "name": "python3"
  },
  "language_info": {
   "codemirror_mode": {
    "name": "ipython",
    "version": 3
   },
   "file_extension": ".py",
   "mimetype": "text/x-python",
   "name": "python",
   "nbconvert_exporter": "python",
   "pygments_lexer": "ipython3",
   "version": "3.9.5"
  }
 },
 "nbformat": 4,
 "nbformat_minor": 1
}
